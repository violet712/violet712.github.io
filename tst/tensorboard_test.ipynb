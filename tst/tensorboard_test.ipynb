{
 "cells": [
  {
   "cell_type": "code",
   "execution_count": 1,
   "metadata": {},
   "outputs": [],
   "source": [
    "import tensorflow as tf\n",
    "from tensorflow import keras\n",
    "import datetime\n",
    "from datetime import datetime"
   ]
  },
  {
   "cell_type": "code",
   "execution_count": 2,
   "metadata": {},
   "outputs": [],
   "source": [
    "# Define the model.\n",
    "model = keras.models.Sequential([\n",
    "    keras.layers.Flatten(input_shape=(28, 28)),\n",
    "    keras.layers.Dense(32, activation='relu'),\n",
    "    keras.layers.Dropout(0.2),\n",
    "    keras.layers.Dense(10, activation='softmax')\n",
    "])\n",
    "\n",
    "model.compile(\n",
    "    optimizer='adam',\n",
    "    loss='sparse_categorical_crossentropy',\n",
    "    metrics=['accuracy'])\n"
   ]
  },
  {
   "cell_type": "code",
   "execution_count": 3,
   "metadata": {},
   "outputs": [],
   "source": [
    "(train_images, train_labels), _ = keras.datasets.fashion_mnist.load_data()\n",
    "train_images = train_images / 255.0\n"
   ]
  },
  {
   "cell_type": "code",
   "execution_count": 4,
   "metadata": {},
   "outputs": [
    {
     "name": "stdout",
     "output_type": "stream",
     "text": [
      "Epoch 1/5\n",
      "938/938 [==============================] - 8s 5ms/step - loss: 0.7018 - accuracy: 0.7596\n",
      "Epoch 2/5\n",
      "938/938 [==============================] - 5s 5ms/step - loss: 0.4903 - accuracy: 0.8306\n",
      "Epoch 3/5\n",
      "938/938 [==============================] - 5s 5ms/step - loss: 0.4491 - accuracy: 0.8401\n",
      "Epoch 4/5\n",
      "938/938 [==============================] - 5s 5ms/step - loss: 0.4288 - accuracy: 0.8486\n",
      "Epoch 5/5\n",
      "938/938 [==============================] - 5s 5ms/step - loss: 0.4160 - accuracy: 0.8501\n"
     ]
    },
    {
     "data": {
      "text/plain": [
       "<keras.callbacks.History at 0x1d515284b80>"
      ]
     },
     "execution_count": 4,
     "metadata": {},
     "output_type": "execute_result"
    }
   ],
   "source": [
    "# Define the Keras TensorBoard callback.\n",
    "logdir = \"logs/fit/\" + datetime.now().strftime(\"%Y-%m-%d_%H-%M-%S\")\n",
    "tensorboard_callback = keras.callbacks.TensorBoard(log_dir=logdir)\n",
    "\n",
    "# Train the model.\n",
    "model.fit(\n",
    "    train_images,\n",
    "    train_labels,\n",
    "    batch_size=64,\n",
    "    epochs=5,\n",
    "    callbacks=[tensorboard_callback])\n"
   ]
  },
  {
   "cell_type": "code",
   "execution_count": 6,
   "metadata": {},
   "outputs": [],
   "source": [
    "from torch.utils.tensorboard import SummaryWriter\n",
    "import torch\n",
    "from torch import nn"
   ]
  },
  {
   "cell_type": "code",
   "execution_count": 8,
   "metadata": {},
   "outputs": [],
   "source": [
    "import torch\n",
    "from torch import nn\n",
    "from d2l import torch as d2l\n",
    "\n",
    "\n",
    "def corr2d(X, K):  # @save\n",
    "    \"\"\"计算二维互相关运算\"\"\"\n",
    "    h, w = K.shape\n",
    "    Y = torch.zeros((X.shape[0] - h + 1, X.shape[1] - w + 1))\n",
    "    for i in range(Y.shape[0]):\n",
    "        for j in range(Y.shape[1]):\n",
    "            Y[i, j] = (X[i:i + h, j:j + w] * K).sum()\n",
    "    return Y\n"
   ]
  },
  {
   "cell_type": "code",
   "execution_count": 9,
   "metadata": {},
   "outputs": [],
   "source": [
    "class Conv2D(nn.Module):\n",
    "    def __init__(self, kernel_size):\n",
    "        super().__init__()\n",
    "        self.weight = nn.Parameter(torch.rand(kernel_size))\n",
    "        self.bias = nn.Parameter(torch.zeros(1))\n",
    "\n",
    "    def forward(self, x):\n",
    "        return corr2d(x, self.weight) + self.bias\n"
   ]
  },
  {
   "cell_type": "code",
   "execution_count": 10,
   "metadata": {},
   "outputs": [
    {
     "data": {
      "text/plain": [
       "tensor([[1., 1., 0., 0., 0., 0., 1., 1.],\n",
       "        [1., 1., 0., 0., 0., 0., 1., 1.],\n",
       "        [1., 1., 0., 0., 0., 0., 1., 1.],\n",
       "        [1., 1., 0., 0., 0., 0., 1., 1.],\n",
       "        [1., 1., 0., 0., 0., 0., 1., 1.],\n",
       "        [1., 1., 0., 0., 0., 0., 1., 1.]])"
      ]
     },
     "execution_count": 10,
     "metadata": {},
     "output_type": "execute_result"
    }
   ],
   "source": [
    "X = torch.ones((6, 8))\n",
    "X[:, 2:6] = 0\n",
    "X"
   ]
  },
  {
   "cell_type": "code",
   "execution_count": 11,
   "metadata": {},
   "outputs": [
    {
     "data": {
      "text/plain": [
       "torch.Size([8, 8])"
      ]
     },
     "execution_count": 11,
     "metadata": {},
     "output_type": "execute_result"
    }
   ],
   "source": [
    "import torch\n",
    "from torch import nn\n",
    "\n",
    "\n",
    "# 为了方便起见，我们定义了一个计算卷积层的函数。\n",
    "# 此函数初始化卷积层权重，并对输入和输出提高和缩减相应的维数\n",
    "def comp_conv2d(conv2d, X):\n",
    "    # 这里的（1，1）表示批量大小和通道数都是1\n",
    "    X = X.reshape((1, 1) + X.shape)\n",
    "    Y = conv2d(X)\n",
    "    # 省略前两个维度：批量大小和通道\n",
    "    return Y.reshape(Y.shape[2:])\n",
    "\n",
    "\n",
    "# 请注意，这里每边都填充了1行或1列，因此总共添加了2行或2列\n",
    "conv2d = nn.Conv2d(1, 1, kernel_size=3, padding=1)\n",
    "X = torch.rand(size=(8, 8))\n",
    "comp_conv2d(conv2d, X).shape\n"
   ]
  },
  {
   "cell_type": "code",
   "execution_count": 14,
   "metadata": {},
   "outputs": [
    {
     "data": {
      "text/plain": [
       "TensorShape([8, 8])"
      ]
     },
     "execution_count": 14,
     "metadata": {},
     "output_type": "execute_result"
    }
   ],
   "source": [
    "import tensorflow as tf\n",
    "\n",
    "\n",
    "# 为了方便起见，我们定义了一个计算卷积层的函数。\n",
    "# 此函数初始化卷积层权重，并对输入和输出提高和缩减相应的维数\n",
    "def comp_conv2d(conv2d, X):\n",
    "    # 这里的（1，1）表示批量大小和通道数都是1\n",
    "    X = tf.reshape(X, (1, ) + X.shape + (1, ))\n",
    "    Y = conv2d(X)\n",
    "    # 省略前两个维度：批量大小和通道\n",
    "    return tf.reshape(Y, Y.shape[1:3])\n",
    "\n",
    "\n",
    "# 请注意，这里每边都填充了1行或1列，因此总共添加了2行或2列\n",
    "conv2d = tf.keras.layers.Conv2D(1, kernel_size=3, padding='same')\n",
    "X = tf.random.uniform(shape=(8, 8))\n",
    "comp_conv2d(conv2d, X).shape\n"
   ]
  },
  {
   "cell_type": "code",
   "execution_count": 19,
   "metadata": {},
   "outputs": [
    {
     "name": "stdout",
     "output_type": "stream",
     "text": [
      "(4, 28, 28, 12)\n"
     ]
    }
   ],
   "source": [
    "# The inputs are 28x28 RGB images with `channels_last` and the batch\n",
    "# size is 4.\n",
    "input_shape = (4, 28, 28, 3)\n",
    "x = tf.random.normal(input_shape)\n",
    "y = tf.keras.layers.Conv2D(\n",
    "    filters=12, kernel_size=3, activation='relu', input_shape=input_shape[1:], padding='same')(x)\n",
    "print(y.shape)\n"
   ]
  },
  {
   "cell_type": "code",
   "execution_count": 17,
   "metadata": {},
   "outputs": [
    {
     "data": {
      "text/plain": [
       "(28, 28, 3)"
      ]
     },
     "execution_count": 17,
     "metadata": {},
     "output_type": "execute_result"
    }
   ],
   "source": [
    "input_shape[1:]"
   ]
  },
  {
   "cell_type": "code",
   "execution_count": 35,
   "metadata": {},
   "outputs": [
    {
     "name": "stdout",
     "output_type": "stream",
     "text": [
      "(1, 28, 28, 1)\n"
     ]
    }
   ],
   "source": [
    "from datetime import datetime\n",
    "import tensorflow as tf\n",
    "import numpy as np\n",
    "\n",
    "logdir = \"logs/train_data/\" + datetime.now().strftime(\"%Y-%m-%d_%H-%M-%S\")\n",
    "file_writer = tf.summary.create_file_writer(logdir)\n",
    "\n",
    "# X = torch.zeros((160, 160))\n",
    "# X[:, 2:60] = 255\n",
    "\n",
    "\n",
    "fashion_mnist = tf.keras.datasets.fashion_mnist\n",
    "(train_images, train_labels), (test_images, test_labels) = \\\n",
    "    fashion_mnist.load_data()\n",
    "\n",
    "# img = np.reshape(X, (-1, 160, 160, 1))\n",
    "\n",
    "# Reshape the image for the Summary API.\n",
    "img = np.reshape(train_images[0], (-1, 28, 28, 1))\n",
    "print(img.shape)\n",
    "with file_writer.as_default():\n",
    "  tf.summary.image(\"Training data\", img, step=0)\n"
   ]
  },
  {
   "cell_type": "code",
   "execution_count": 40,
   "metadata": {},
   "outputs": [],
   "source": [
    "x = np.random.rand(28, 28)\n",
    "img = np.reshape(x, (-1, 28, 28, 1))\n",
    "\n",
    "with file_writer.as_default():\n",
    "  tf.summary.image(\"Training data\", img, step=0)\n"
   ]
  },
  {
   "cell_type": "code",
   "execution_count": 85,
   "metadata": {},
   "outputs": [
    {
     "name": "stderr",
     "output_type": "stream",
     "text": [
      "Clipping input data to the valid range for imshow with RGB data ([0..1] for floats or [0..255] for integers).\n"
     ]
    },
    {
     "data": {
      "text/plain": [
       "<matplotlib.image.AxesImage at 0x23779552d60>"
      ]
     },
     "execution_count": 85,
     "metadata": {},
     "output_type": "execute_result"
    },
    {
     "data": {
      "image/png": "[encoded data removed]",
      "image/svg+xml": "<?xml version=\"1.0\" encoding=\"utf-8\" standalone=\"no\"?>\n<!DOCTYPE svg PUBLIC \"-//W3C//DTD SVG 1.1//EN\"\n  \"http://www.w3.org/Graphics/SVG/1.1/DTD/svg11.dtd\">\n<svg xmlns:xlink=\"http://www.w3.org/1999/xlink\" width=\"251.565pt\" height=\"248.518125pt\" viewBox=\"0 0 251.565 248.518125\" xmlns=\"http://www.w3.org/2000/svg\" version=\"1.1\">\n <metadata>\n  <rdf:RDF xmlns:dc=\"http://purl.org/dc/elements/1.1/\" xmlns:cc=\"http://creativecommons.org/ns#\" xmlns:rdf=\"http://www.w3.org/1999/02/22-rdf-syntax-ns#\">\n   <cc:Work>\n    <dc:type rdf:resource=\"http://purl.org/dc/dcmitype/StillImage\"/>\n    <dc:date>2022-06-09T20:27:57.160274</dc:date>\n    <dc:format>image/svg+xml</dc:format>\n    <dc:creator>\n     <cc:Agent>\n      <dc:title>Matplotlib v3.5.2, https://matplotlib.org/</dc:title>\n     </cc:Agent>\n    </dc:creator>\n   </cc:Work>\n  </rdf:RDF>\n </metadata>\n <defs>\n  <style type=\"text/css\">*{stroke-linejoin: round; stroke-linecap: butt}</style>\n </defs>\n <g id=\"figure_1\">\n  <g id=\"patch_1\">\n   <path d=\"M 0 248.518125 \nL 251.565 248.518125 \nL 251.565 0 \nL 0 0 \nL 0 248.518125 \nz\n\" style=\"fill: none\"/>\n  </g>\n  <g id=\"axes_1\">\n   <g id=\"patch_2\">\n    <path d=\"M 26.925 224.64 \nL 244.365 224.64 \nL 244.365 7.2 \nL 26.925 7.2 \nz\n\" style=\"fill: #ffffff\"/>\n   </g>\n   <g clip-path=\"url(#pe87f642130)\">\n    <image xlink:href=\"data:image/png;base64,\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\" id=\"image0b93552149\" transform=\"scale(1 -1)translate(0 -218)\" x=\"26.925\" y=\"-6.64\" width=\"218\" height=\"218\"/>\n   </g>\n   <g id=\"matplotlib.axis_1\">\n    <g id=\"xtick_1\">\n     <g id=\"line2d_1\">\n      <defs>\n       <path id=\"m957fae7fca\" d=\"M 0 0 \nL 0 3.5 \n\" style=\"stroke: #000000; stroke-width: 0.8\"/>\n      </defs>\n      <g>\n       <use xlink:href=\"#m957fae7fca\" x=\"30.807857\" y=\"224.64\" style=\"stroke: #000000; stroke-width: 0.8\"/>\n      </g>\n     </g>\n     <g id=\"text_1\">\n      <!-- 0 -->\n      <g transform=\"translate(27.626607 239.238437)scale(0.1 -0.1)\">\n       <defs>\n        <path id=\"DejaVuSans-30\" d=\"M 2034 4250 \nQ 1547 4250 1301 3770 \nQ 1056 3291 1056 2328 \nQ 1056 1369 1301 889 \nQ 1547 409 2034 409 \nQ 2525 409 2770 889 \nQ 3016 1369 3016 2328 \nQ 3016 3291 2770 3770 \nQ 2525 4250 2034 4250 \nz\nM 2034 4750 \nQ 2819 4750 3233 4129 \nQ 3647 3509 3647 2328 \nQ 3647 1150 3233 529 \nQ 2819 -91 2034 -91 \nQ 1250 -91 836 529 \nQ 422 1150 422 2328 \nQ 422 3509 836 4129 \nQ 1250 4750 2034 4750 \nz\n\" transform=\"scale(0.015625)\"/>\n       </defs>\n       <use xlink:href=\"#DejaVuSans-30\"/>\n      </g>\n     </g>\n    </g>\n    <g id=\"xtick_2\">\n     <g id=\"line2d_2\">\n      <g>\n       <use xlink:href=\"#m957fae7fca\" x=\"69.636429\" y=\"224.64\" style=\"stroke: #000000; stroke-width: 0.8\"/>\n      </g>\n     </g>\n     <g id=\"text_2\">\n      <!-- 5 -->\n      <g transform=\"translate(66.455179 239.238437)scale(0.1 -0.1)\">\n       <defs>\n        <path id=\"DejaVuSans-35\" d=\"M 691 4666 \nL 3169 4666 \nL 3169 4134 \nL 1269 4134 \nL 1269 2991 \nQ 1406 3038 1543 3061 \nQ 1681 3084 1819 3084 \nQ 2600 3084 3056 2656 \nQ 3513 2228 3513 1497 \nQ 3513 744 3044 326 \nQ 2575 -91 1722 -91 \nQ 1428 -91 1123 -41 \nQ 819 9 494 109 \nL 494 744 \nQ 775 591 1075 516 \nQ 1375 441 1709 441 \nQ 2250 441 2565 725 \nQ 2881 1009 2881 1497 \nQ 2881 1984 2565 2268 \nQ 2250 2553 1709 2553 \nQ 1456 2553 1204 2497 \nQ 953 2441 691 2322 \nL 691 4666 \nz\n\" transform=\"scale(0.015625)\"/>\n       </defs>\n       <use xlink:href=\"#DejaVuSans-35\"/>\n      </g>\n     </g>\n    </g>\n    <g id=\"xtick_3\">\n     <g id=\"line2d_3\">\n      <g>\n       <use xlink:href=\"#m957fae7fca\" x=\"108.465\" y=\"224.64\" style=\"stroke: #000000; stroke-width: 0.8\"/>\n      </g>\n     </g>\n     <g id=\"text_3\">\n      <!-- 10 -->\n      <g transform=\"translate(102.1025 239.238437)scale(0.1 -0.1)\">\n       <defs>\n        <path id=\"DejaVuSans-31\" d=\"M 794 531 \nL 1825 531 \nL 1825 4091 \nL 703 3866 \nL 703 4441 \nL 1819 4666 \nL 2450 4666 \nL 2450 531 \nL 3481 531 \nL 3481 0 \nL 794 0 \nL 794 531 \nz\n\" transform=\"scale(0.015625)\"/>\n       </defs>\n       <use xlink:href=\"#DejaVuSans-31\"/>\n       <use xlink:href=\"#DejaVuSans-30\" x=\"63.623047\"/>\n      </g>\n     </g>\n    </g>\n    <g id=\"xtick_4\">\n     <g id=\"line2d_4\">\n      <g>\n       <use xlink:href=\"#m957fae7fca\" x=\"147.293571\" y=\"224.64\" style=\"stroke: #000000; stroke-width: 0.8\"/>\n      </g>\n     </g>\n     <g id=\"text_4\">\n      <!-- 15 -->\n      <g transform=\"translate(140.931071 239.238437)scale(0.1 -0.1)\">\n       <use xlink:href=\"#DejaVuSans-31\"/>\n       <use xlink:href=\"#DejaVuSans-35\" x=\"63.623047\"/>\n      </g>\n     </g>\n    </g>\n    <g id=\"xtick_5\">\n     <g id=\"line2d_5\">\n      <g>\n       <use xlink:href=\"#m957fae7fca\" x=\"186.122143\" y=\"224.64\" style=\"stroke: #000000; stroke-width: 0.8\"/>\n      </g>\n     </g>\n     <g id=\"text_5\">\n      <!-- 20 -->\n      <g transform=\"translate(179.759643 239.238437)scale(0.1 -0.1)\">\n       <defs>\n        <path id=\"DejaVuSans-32\" d=\"M 1228 531 \nL 3431 531 \nL 3431 0 \nL 469 0 \nL 469 531 \nQ 828 903 1448 1529 \nQ 2069 2156 2228 2338 \nQ 2531 2678 2651 2914 \nQ 2772 3150 2772 3378 \nQ 2772 3750 2511 3984 \nQ 2250 4219 1831 4219 \nQ 1534 4219 1204 4116 \nQ 875 4013 500 3803 \nL 500 4441 \nQ 881 4594 1212 4672 \nQ 1544 4750 1819 4750 \nQ 2544 4750 2975 4387 \nQ 3406 4025 3406 3419 \nQ 3406 3131 3298 2873 \nQ 3191 2616 2906 2266 \nQ 2828 2175 2409 1742 \nQ 1991 1309 1228 531 \nz\n\" transform=\"scale(0.015625)\"/>\n       </defs>\n       <use xlink:href=\"#DejaVuSans-32\"/>\n       <use xlink:href=\"#DejaVuSans-30\" x=\"63.623047\"/>\n      </g>\n     </g>\n    </g>\n    <g id=\"xtick_6\">\n     <g id=\"line2d_6\">\n      <g>\n       <use xlink:href=\"#m957fae7fca\" x=\"224.950714\" y=\"224.64\" style=\"stroke: #000000; stroke-width: 0.8\"/>\n      </g>\n     </g>\n     <g id=\"text_6\">\n      <!-- 25 -->\n      <g transform=\"translate(218.588214 239.238437)scale(0.1 -0.1)\">\n       <use xlink:href=\"#DejaVuSans-32\"/>\n       <use xlink:href=\"#DejaVuSans-35\" x=\"63.623047\"/>\n      </g>\n     </g>\n    </g>\n   </g>\n   <g id=\"matplotlib.axis_2\">\n    <g id=\"ytick_1\">\n     <g id=\"line2d_7\">\n      <defs>\n       <path id=\"mf0edf04c72\" d=\"M 0 0 \nL -3.5 0 \n\" style=\"stroke: #000000; stroke-width: 0.8\"/>\n      </defs>\n      <g>\n       <use xlink:href=\"#mf0edf04c72\" x=\"26.925\" y=\"11.082857\" style=\"stroke: #000000; stroke-width: 0.8\"/>\n      </g>\n     </g>\n     <g id=\"text_7\">\n      <!-- 0 -->\n      <g transform=\"translate(13.5625 14.882076)scale(0.1 -0.1)\">\n       <use xlink:href=\"#DejaVuSans-30\"/>\n      </g>\n     </g>\n    </g>\n    <g id=\"ytick_2\">\n     <g id=\"line2d_8\">\n      <g>\n       <use xlink:href=\"#mf0edf04c72\" x=\"26.925\" y=\"49.911429\" style=\"stroke: #000000; stroke-width: 0.8\"/>\n      </g>\n     </g>\n     <g id=\"text_8\">\n      <!-- 5 -->\n      <g transform=\"translate(13.5625 53.710647)scale(0.1 -0.1)\">\n       <use xlink:href=\"#DejaVuSans-35\"/>\n      </g>\n     </g>\n    </g>\n    <g id=\"ytick_3\">\n     <g id=\"line2d_9\">\n      <g>\n       <use xlink:href=\"#mf0edf04c72\" x=\"26.925\" y=\"88.74\" style=\"stroke: #000000; stroke-width: 0.8\"/>\n      </g>\n     </g>\n     <g id=\"text_9\">\n      <!-- 10 -->\n      <g transform=\"translate(7.2 92.539219)scale(0.1 -0.1)\">\n       <use xlink:href=\"#DejaVuSans-31\"/>\n       <use xlink:href=\"#DejaVuSans-30\" x=\"63.623047\"/>\n      </g>\n     </g>\n    </g>\n    <g id=\"ytick_4\">\n     <g id=\"line2d_10\">\n      <g>\n       <use xlink:href=\"#mf0edf04c72\" x=\"26.925\" y=\"127.568571\" style=\"stroke: #000000; stroke-width: 0.8\"/>\n      </g>\n     </g>\n     <g id=\"text_10\">\n      <!-- 15 -->\n      <g transform=\"translate(7.2 131.36779)scale(0.1 -0.1)\">\n       <use xlink:href=\"#DejaVuSans-31\"/>\n       <use xlink:href=\"#DejaVuSans-35\" x=\"63.623047\"/>\n      </g>\n     </g>\n    </g>\n    <g id=\"ytick_5\">\n     <g id=\"line2d_11\">\n      <g>\n       <use xlink:href=\"#mf0edf04c72\" x=\"26.925\" y=\"166.397143\" style=\"stroke: #000000; stroke-width: 0.8\"/>\n      </g>\n     </g>\n     <g id=\"text_11\">\n      <!-- 20 -->\n      <g transform=\"translate(7.2 170.196362)scale(0.1 -0.1)\">\n       <use xlink:href=\"#DejaVuSans-32\"/>\n       <use xlink:href=\"#DejaVuSans-30\" x=\"63.623047\"/>\n      </g>\n     </g>\n    </g>\n    <g id=\"ytick_6\">\n     <g id=\"line2d_12\">\n      <g>\n       <use xlink:href=\"#mf0edf04c72\" x=\"26.925\" y=\"205.225714\" style=\"stroke: #000000; stroke-width: 0.8\"/>\n      </g>\n     </g>\n     <g id=\"text_12\">\n      <!-- 25 -->\n      <g transform=\"translate(7.2 209.024933)scale(0.1 -0.1)\">\n       <use xlink:href=\"#DejaVuSans-32\"/>\n       <use xlink:href=\"#DejaVuSans-35\" x=\"63.623047\"/>\n      </g>\n     </g>\n    </g>\n   </g>\n   <g id=\"patch_3\">\n    <path d=\"M 26.925 224.64 \nL 26.925 7.2 \n\" style=\"fill: none; stroke: #000000; stroke-width: 0.8; stroke-linejoin: miter; stroke-linecap: square\"/>\n   </g>\n   <g id=\"patch_4\">\n    <path d=\"M 244.365 224.64 \nL 244.365 7.2 \n\" style=\"fill: none; stroke: #000000; stroke-width: 0.8; stroke-linejoin: miter; stroke-linecap: square\"/>\n   </g>\n   <g id=\"patch_5\">\n    <path d=\"M 26.925 224.64 \nL 244.365 224.64 \n\" style=\"fill: none; stroke: #000000; stroke-width: 0.8; stroke-linejoin: miter; stroke-linecap: square\"/>\n   </g>\n   <g id=\"patch_6\">\n    <path d=\"M 26.925 7.2 \nL 244.365 7.2 \n\" style=\"fill: none; stroke: #000000; stroke-width: 0.8; stroke-linejoin: miter; stroke-linecap: square\"/>\n   </g>\n  </g>\n </g>\n <defs>\n  <clipPath id=\"pe87f642130\">\n   <rect x=\"26.925\" y=\"7.2\" width=\"217.44\" height=\"217.44\"/>\n  </clipPath>\n </defs>\n</svg>\n",
      "text/plain": [
       "<Figure size 432x288 with 1 Axes>"
      ]
     },
     "metadata": {
      "needs_background": "light"
     },
     "output_type": "display_data"
    }
   ],
   "source": [
    "import matplotlib.pyplot as plt\n",
    "\n",
    "img = np.random.rand(28, 28, 3)\n",
    "\n",
    "\n",
    "\n",
    "img1 = tf.random.normal([28, 28, 3])\n",
    "img1[:, 5:,:]\n",
    "plt.figure()\n",
    "plt.imshow(img1)"
   ]
  },
  {
   "cell_type": "code",
   "execution_count": 67,
   "metadata": {},
   "outputs": [
    {
     "name": "stdout",
     "output_type": "stream",
     "text": [
      "[PhysicalDevice(name='/physical_device:GPU:0', device_type='GPU')]\n"
     ]
    }
   ],
   "source": [
    "print(tf.config.list_physical_devices(\"GPU\"))\n"
   ]
  },
  {
   "cell_type": "code",
   "execution_count": 80,
   "metadata": {},
   "outputs": [
    {
     "data": {
      "text/plain": [
       "<tf.Tensor: shape=(2, 2), dtype=float32, numpy=\n",
       "array([[-0.2914293 ,  1.5604516 ],\n",
       "       [ 0.46376225,  1.6291747 ]], dtype=float32)>"
      ]
     },
     "execution_count": 80,
     "metadata": {},
     "output_type": "execute_result"
    }
   ],
   "source": [
    "a = tf.random.normal([2, 2])\n",
    "a"
   ]
  },
  {
   "cell_type": "code",
   "execution_count": 3,
   "metadata": {},
   "outputs": [],
   "source": [
    "%tensorboard\n",
    "import tensorflow as tf\n",
    "\n",
    "logdir = \"./tb/\"\n",
    "writer = tf.summary.create_file_writer(logdir)\n",
    "\n",
    "steps = 1000\n",
    "with writer.as_default():  # or call writer.set_as_default() before the loop.\n",
    "  for i in range(steps):\n",
    "    step = i + 1\n",
    "    # Calculate loss with your real train function.\n",
    "    loss = 1 - 0.001 * step\n",
    "    if step % 10 == 0:\n",
    "      tf.summary.scalar('loss', loss, step=step)"
   ]
  },
  {
   "cell_type": "code",
   "execution_count": 5,
   "metadata": {},
   "outputs": [],
   "source": [
    "test_summary_writer = tf.summary.create_file_writer('test/logdir')\n",
    "with test_summary_writer.as_default():\n",
    "    tf.summary.scalar('loss', 0.345, step=1, description='123')\n",
    "    tf.summary.scalar('loss', 0.234, step=2)\n",
    "    tf.summary.scalar('loss', 0.123, step=3)\n"
   ]
  },
  {
   "cell_type": "code",
   "execution_count": 6,
   "metadata": {},
   "outputs": [
    {
     "name": "stdout",
     "output_type": "stream",
     "text": [
      "d:\\vscodespace\\violet712.github.io\\tst\n"
     ]
    }
   ],
   "source": [
    "import os\n",
    "\n",
    "print(os.getcwd())"
   ]
  },
  {
   "cell_type": "code",
   "execution_count": 7,
   "metadata": {},
   "outputs": [
    {
     "name": "stdout",
     "output_type": "stream",
     "text": [
      "['data', 'DQN.ipynb', 'logs', 'reinforcement_q_learning (1).ipynb', 'tb', 'tensorboard_test.ipynb', 'test', 'tst.ipynb']\n"
     ]
    }
   ],
   "source": [
    "print(os.listdir())"
   ]
  },
  {
   "cell_type": "code",
   "execution_count": 1,
   "metadata": {},
   "outputs": [
    {
     "name": "stdout",
     "output_type": "stream",
     "text": [
      "WARNING:tensorflow:From c:\\Users\\37103\\AppData\\Local\\Programs\\Python\\Python39\\lib\\site-packages\\tensorflow\\python\\ops\\summary_ops_v2.py:1307: start (from tensorflow.python.eager.profiler) is deprecated and will be removed after 2020-07-01.\n",
      "Instructions for updating:\n",
      "use `tf.profiler.experimental.start` instead.\n",
      "WARNING:tensorflow:From c:\\Users\\37103\\AppData\\Local\\Programs\\Python\\Python39\\lib\\site-packages\\tensorflow\\python\\ops\\summary_ops_v2.py:1358: stop (from tensorflow.python.eager.profiler) is deprecated and will be removed after 2020-07-01.\n",
      "Instructions for updating:\n",
      "use `tf.profiler.experimental.stop` instead.\n",
      "WARNING:tensorflow:From c:\\Users\\37103\\AppData\\Local\\Programs\\Python\\Python39\\lib\\site-packages\\tensorflow\\python\\ops\\summary_ops_v2.py:1358: save (from tensorflow.python.eager.profiler) is deprecated and will be removed after 2020-07-01.\n",
      "Instructions for updating:\n",
      "`tf.python.eager.profiler` has deprecated, use `tf.profiler` instead.\n",
      "WARNING:tensorflow:From c:\\Users\\37103\\AppData\\Local\\Programs\\Python\\Python39\\lib\\site-packages\\tensorflow\\python\\eager\\profiler.py:150: maybe_create_event_file (from tensorflow.python.eager.profiler) is deprecated and will be removed after 2020-07-01.\n",
      "Instructions for updating:\n",
      "`tf.python.eager.profiler` has deprecated, use `tf.profiler` instead.\n"
     ]
    }
   ],
   "source": [
    "import tensorflow as tf\n",
    "from datetime import datetime\n",
    "\n",
    "# The function to be traced.\n",
    "\n",
    "\n",
    "@tf.function\n",
    "def my_func(x, y):\n",
    "  # A simple hand-rolled layer.\n",
    "  return tf.nn.relu(tf.matmul(x, y))\n",
    "\n",
    "\n",
    "# Set up logging.\n",
    "stamp = datetime.now().strftime(\"%Y-%m-%d_%H-%M-%S\")\n",
    "logdir = 'logs/func/%s' % stamp\n",
    "writer = tf.summary.create_file_writer(logdir)\n",
    "\n",
    "# Sample data for your function.\n",
    "x = tf.random.uniform((3, 3))\n",
    "y = tf.random.uniform((3, 3))\n",
    "\n",
    "# Bracket the function call with\n",
    "# tf.summary.trace_on() and tf.summary.trace_export().\n",
    "tf.summary.trace_on(graph=True, profiler=True)\n",
    "# Call only one tf.function when tracing.\n",
    "z = my_func(x, y)\n",
    "with writer.as_default():\n",
    "  tf.summary.trace_export(\n",
    "      name=\"my_func_trace\",\n",
    "      step=0,\n",
    "      profiler_outdir=logdir)\n"
   ]
  },
  {
   "cell_type": "code",
   "execution_count": null,
   "metadata": {},
   "outputs": [],
   "source": [
    "v = tf.Variable(1)\n",
    "\n",
    "\n",
    "@tf.function\n",
    "def f(x):\n",
    "  ta = tf.TensorArray(tf.int32, size=0, dynamic_size=True)\n",
    "  for i in tf.range(x):\n",
    "    v.assign_add(i)\n",
    "    ta = ta.write(i, v)\n",
    "  return ta.stack()\n",
    "\n",
    "\n",
    "stamp = datetime.now().strftime(\"%Y-%m-%d_%H-%M-%S\")\n",
    "logdir = 'logs/func/%s' % stamp\n",
    "writer = tf.summary.create_file_writer(logdir)\n",
    "\n",
    "\n",
    "tf.summary.trace_on(graph=True)\n",
    "print(f(5))\n",
    "with writer.as_default() as writer:\n",
    "  tf.summary.trace_export(name='func_trace', step=0)\n"
   ]
  },
  {
   "cell_type": "code",
   "execution_count": 5,
   "metadata": {},
   "outputs": [
    {
     "data": {
      "text/plain": [
       "<tf.Tensor: shape=(3,), dtype=float32, numpy=array([10., 20., 30.], dtype=float32)>"
      ]
     },
     "execution_count": 5,
     "metadata": {},
     "output_type": "execute_result"
    }
   ],
   "source": [
    "ta = tf.TensorArray(tf.float32, size=0, dynamic_size=True,\n",
    "                    clear_after_read=False)\n",
    "ta = ta.write(0, 10)\n",
    "ta = ta.write(1, 20)\n",
    "ta = ta.write(2, 30)\n",
    "\n",
    "ta.read(0)\n",
    "\n",
    "ta.read(1)\n",
    "\n",
    "ta.read(2)\n",
    "\n",
    "ta.stack()\n"
   ]
  },
  {
   "cell_type": "code",
   "execution_count": 6,
   "metadata": {},
   "outputs": [
    {
     "data": {
      "text/plain": [
       "<tf.Tensor: shape=(), dtype=float32, numpy=10.0>"
      ]
     },
     "execution_count": 6,
     "metadata": {},
     "output_type": "execute_result"
    }
   ],
   "source": [
    "ta.read(0)"
   ]
  },
  {
   "cell_type": "code",
   "execution_count": 3,
   "metadata": {},
   "outputs": [],
   "source": [
    "import tensorflow as tf\n",
    "\n",
    "ta = tf.TensorArray(tf.float32, size=0, dynamic_size=True)\n",
    "ta = ta.unstack([0.0, 1.0])"
   ]
  },
  {
   "cell_type": "code",
   "execution_count": 1,
   "metadata": {},
   "outputs": [
    {
     "name": "stdout",
     "output_type": "stream",
     "text": [
      "tf.Tensor([[-0.6931472 -0.6931472]], shape=(1, 2), dtype=float32)\n"
     ]
    }
   ],
   "source": [
    "import tensorflow as tf\n",
    "\n",
    "print(tf.math.log([[0.5, 0.5]]))"
   ]
  },
  {
   "cell_type": "code",
   "execution_count": 31,
   "metadata": {},
   "outputs": [
    {
     "name": "stdout",
     "output_type": "stream",
     "text": [
      "tf.Tensor([[0]], shape=(1, 1), dtype=int64)\n"
     ]
    }
   ],
   "source": [
    "samples = tf.random.categorical(\n",
    "    [[0.1, 0.0, 0.5, 1.0]], 1)\n",
    "print(samples)"
   ]
  },
  {
   "cell_type": "code",
   "execution_count": 33,
   "metadata": {},
   "outputs": [
    {
     "name": "stdout",
     "output_type": "stream",
     "text": [
      "tf.Tensor([[0 0 0 1 0]], shape=(1, 5), dtype=int64)\n"
     ]
    }
   ],
   "source": [
    "samples = tf.random.categorical(tf.math.log([[0.5, 0.5]]), 5)\n",
    "print(samples)"
   ]
  },
  {
   "cell_type": "code",
   "execution_count": 41,
   "metadata": {},
   "outputs": [
    {
     "name": "stdout",
     "output_type": "stream",
     "text": [
      "<tf.Variable 'Variable:0' shape=() dtype=int32, numpy=1>\n",
      "tf.Tensor([1], shape=(1,), dtype=int32)\n",
      "[1, 1]\n"
     ]
    }
   ],
   "source": [
    "a = tf.Variable(1)\n",
    "print(a)\n",
    "a = tf.expand_dims(a, axis=0)\n",
    "\n",
    "print(a)\n",
    "\n",
    "a = tf.expand_dims(a, axis=0).shape.as_list()\n",
    "\n",
    "print(a)\n"
   ]
  },
  {
   "cell_type": "code",
   "execution_count": null,
   "metadata": {},
   "outputs": [],
   "source": []
  }
 ],
 "metadata": {
  "interpreter": {
   "hash": "2638d182245c591c0c7650a148f9b4622aaf18b8cff9e48ecf203e602cb4653c"
  },
  "kernelspec": {
   "display_name": "Python 3.9.12 64-bit",
   "language": "python",
   "name": "python3"
  },
  "language_info": {
   "codemirror_mode": {
    "name": "ipython",
    "version": 3
   },
   "file_extension": ".py",
   "mimetype": "text/x-python",
   "name": "python",
   "nbconvert_exporter": "python",
   "pygments_lexer": "ipython3",
   "version": "3.9.12"
  },
  "orig_nbformat": 4
 },
 "nbformat": 4,
 "nbformat_minor": 2
}
