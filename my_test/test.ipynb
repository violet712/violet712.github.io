{
 "cells": [
  {
   "cell_type": "code",
   "execution_count": 45,
   "metadata": {},
   "outputs": [
    {
     "name": "stdout",
     "output_type": "stream",
     "text": [
      "(210, 160, 3)\n",
      "210\n",
      "<class 'tuple'>\n"
     ]
    },
    {
     "name": "stderr",
     "output_type": "stream",
     "text": [
      "/root/anaconda3/envs/env1/lib/python3.9/site-packages/gymnasium/utils/passive_env_checker.py:357: UserWarning: \u001b[33mWARN: No render fps was declared in the environment (env.metadata['render_fps'] is None or not defined), rendering may occur at inconsistent fps.\u001b[0m\n",
      "  logger.warn(\n"
     ]
    },
    {
     "data": {
      "image/png": "[encoded data removed]",
      "image/svg+xml": "<?xml version=\"1.0\" encoding=\"utf-8\" standalone=\"no\"?>\n<!DOCTYPE svg PUBLIC \"-//W3C//DTD SVG 1.1//EN\"\n  \"http://www.w3.org/Graphics/SVG/1.1/DTD/svg11.dtd\">\n<svg xmlns:xlink=\"http://www.w3.org/1999/xlink\" width=\"243.2395pt\" height=\"300.355744pt\" viewBox=\"0 0 243.2395 300.355744\" xmlns=\"http://www.w3.org/2000/svg\" version=\"1.1\">\n <metadata>\n  <rdf:RDF xmlns:dc=\"http://purl.org/dc/elements/1.1/\" xmlns:cc=\"http://creativecommons.org/ns#\" xmlns:rdf=\"http://www.w3.org/1999/02/22-rdf-syntax-ns#\">\n   <cc:Work>\n    <dc:type rdf:resource=\"http://purl.org/dc/dcmitype/StillImage\"/>\n    <dc:date>2023-03-23T06:45:06.220804</dc:date>\n    <dc:format>image/svg+xml</dc:format>\n    <dc:creator>\n     <cc:Agent>\n      <dc:title>Matplotlib v3.7.1, https://matplotlib.org/</dc:title>\n     </cc:Agent>\n    </dc:creator>\n   </cc:Work>\n  </rdf:RDF>\n </metadata>\n <defs>\n  <style type=\"text/css\">*{stroke-linejoin: round; stroke-linecap: butt}</style>\n </defs>\n <g id=\"figure_1\">\n  <g id=\"patch_1\">\n   <path d=\"M 0 300.355744 \nL 243.2395 300.355744 \nL 243.2395 0 \nL 0 0 \nz\n\" style=\"fill: #ffffff\"/>\n  </g>\n  <g id=\"axes_1\">\n   <g id=\"patch_2\">\n    <path d=\"M 33.2875 276.477619 \nL 236.0395 276.477619 \nL 236.0395 10.365619 \nL 33.2875 10.365619 \nz\n\" style=\"fill: #ffffff\"/>\n   </g>\n   <g clip-path=\"url(#p30c63df039)\">\n    <image xlink:href=\"data:image/png;base64,\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\" id=\"image4927d004b2\" transform=\"scale(1 -1) translate(0 -266.4)\" x=\"33.2875\" y=\"-10.077619\" width=\"203.04\" height=\"266.4\"/>\n   </g>\n   <g id=\"matplotlib.axis_1\">\n    <g id=\"xtick_1\">\n     <g id=\"line2d_1\">\n      <defs>\n       <path id=\"m70814d05c7\" d=\"M 0 0 \nL 0 3.5 \n\" style=\"stroke: #000000; stroke-width: 0.8\"/>\n      </defs>\n      <g>\n       <use xlink:href=\"#m70814d05c7\" x=\"33.9211\" y=\"276.477619\" style=\"stroke: #000000; stroke-width: 0.8\"/>\n      </g>\n     </g>\n     <g id=\"text_1\">\n      <!-- 0 -->\n      <g transform=\"translate(30.73985 291.076056) scale(0.1 -0.1)\">\n       <defs>\n        <path id=\"DejaVuSans-30\" d=\"M 2034 4250 \nQ 1547 4250 1301 3770 \nQ 1056 3291 1056 2328 \nQ 1056 1369 1301 889 \nQ 1547 409 2034 409 \nQ 2525 409 2770 889 \nQ 3016 1369 3016 2328 \nQ 3016 3291 2770 3770 \nQ 2525 4250 2034 4250 \nz\nM 2034 4750 \nQ 2819 4750 3233 4129 \nQ 3647 3509 3647 2328 \nQ 3647 1150 3233 529 \nQ 2819 -91 2034 -91 \nQ 1250 -91 836 529 \nQ 422 1150 422 2328 \nQ 422 3509 836 4129 \nQ 1250 4750 2034 4750 \nz\n\" transform=\"scale(0.015625)\"/>\n       </defs>\n       <use xlink:href=\"#DejaVuSans-30\"/>\n      </g>\n     </g>\n    </g>\n    <g id=\"xtick_2\">\n     <g id=\"line2d_2\">\n      <g>\n       <use xlink:href=\"#m70814d05c7\" x=\"97.2811\" y=\"276.477619\" style=\"stroke: #000000; stroke-width: 0.8\"/>\n      </g>\n     </g>\n     <g id=\"text_2\">\n      <!-- 50 -->\n      <g transform=\"translate(90.9186 291.076056) scale(0.1 -0.1)\">\n       <defs>\n        <path id=\"DejaVuSans-35\" d=\"M 691 4666 \nL 3169 4666 \nL 3169 4134 \nL 1269 4134 \nL 1269 2991 \nQ 1406 3038 1543 3061 \nQ 1681 3084 1819 3084 \nQ 2600 3084 3056 2656 \nQ 3513 2228 3513 1497 \nQ 3513 744 3044 326 \nQ 2575 -91 1722 -91 \nQ 1428 -91 1123 -41 \nQ 819 9 494 109 \nL 494 744 \nQ 775 591 1075 516 \nQ 1375 441 1709 441 \nQ 2250 441 2565 725 \nQ 2881 1009 2881 1497 \nQ 2881 1984 2565 2268 \nQ 2250 2553 1709 2553 \nQ 1456 2553 1204 2497 \nQ 953 2441 691 2322 \nL 691 4666 \nz\n\" transform=\"scale(0.015625)\"/>\n       </defs>\n       <use xlink:href=\"#DejaVuSans-35\"/>\n       <use xlink:href=\"#DejaVuSans-30\" x=\"63.623047\"/>\n      </g>\n     </g>\n    </g>\n    <g id=\"xtick_3\">\n     <g id=\"line2d_3\">\n      <g>\n       <use xlink:href=\"#m70814d05c7\" x=\"160.6411\" y=\"276.477619\" style=\"stroke: #000000; stroke-width: 0.8\"/>\n      </g>\n     </g>\n     <g id=\"text_3\">\n      <!-- 100 -->\n      <g transform=\"translate(151.09735 291.076056) scale(0.1 -0.1)\">\n       <defs>\n        <path id=\"DejaVuSans-31\" d=\"M 794 531 \nL 1825 531 \nL 1825 4091 \nL 703 3866 \nL 703 4441 \nL 1819 4666 \nL 2450 4666 \nL 2450 531 \nL 3481 531 \nL 3481 0 \nL 794 0 \nL 794 531 \nz\n\" transform=\"scale(0.015625)\"/>\n       </defs>\n       <use xlink:href=\"#DejaVuSans-31\"/>\n       <use xlink:href=\"#DejaVuSans-30\" x=\"63.623047\"/>\n       <use xlink:href=\"#DejaVuSans-30\" x=\"127.246094\"/>\n      </g>\n     </g>\n    </g>\n    <g id=\"xtick_4\">\n     <g id=\"line2d_4\">\n      <g>\n       <use xlink:href=\"#m70814d05c7\" x=\"224.0011\" y=\"276.477619\" style=\"stroke: #000000; stroke-width: 0.8\"/>\n      </g>\n     </g>\n     <g id=\"text_4\">\n      <!-- 150 -->\n      <g transform=\"translate(214.45735 291.076056) scale(0.1 -0.1)\">\n       <use xlink:href=\"#DejaVuSans-31\"/>\n       <use xlink:href=\"#DejaVuSans-35\" x=\"63.623047\"/>\n       <use xlink:href=\"#DejaVuSans-30\" x=\"127.246094\"/>\n      </g>\n     </g>\n    </g>\n   </g>\n   <g id=\"matplotlib.axis_2\">\n    <g id=\"ytick_1\">\n     <g id=\"line2d_5\">\n      <defs>\n       <path id=\"m56721790ca\" d=\"M 0 0 \nL -3.5 0 \n\" style=\"stroke: #000000; stroke-width: 0.8\"/>\n      </defs>\n      <g>\n       <use xlink:href=\"#m56721790ca\" x=\"33.2875\" y=\"10.999219\" style=\"stroke: #000000; stroke-width: 0.8\"/>\n      </g>\n     </g>\n     <g id=\"text_5\">\n      <!-- 0 -->\n      <g transform=\"translate(19.925 14.798437) scale(0.1 -0.1)\">\n       <use xlink:href=\"#DejaVuSans-30\"/>\n      </g>\n     </g>\n    </g>\n    <g id=\"ytick_2\">\n     <g id=\"line2d_6\">\n      <g>\n       <use xlink:href=\"#m56721790ca\" x=\"33.2875\" y=\"42.679219\" style=\"stroke: #000000; stroke-width: 0.8\"/>\n      </g>\n     </g>\n     <g id=\"text_6\">\n      <!-- 25 -->\n      <g transform=\"translate(13.5625 46.478437) scale(0.1 -0.1)\">\n       <defs>\n        <path id=\"DejaVuSans-32\" d=\"M 1228 531 \nL 3431 531 \nL 3431 0 \nL 469 0 \nL 469 531 \nQ 828 903 1448 1529 \nQ 2069 2156 2228 2338 \nQ 2531 2678 2651 2914 \nQ 2772 3150 2772 3378 \nQ 2772 3750 2511 3984 \nQ 2250 4219 1831 4219 \nQ 1534 4219 1204 4116 \nQ 875 4013 500 3803 \nL 500 4441 \nQ 881 4594 1212 4672 \nQ 1544 4750 1819 4750 \nQ 2544 4750 2975 4387 \nQ 3406 4025 3406 3419 \nQ 3406 3131 3298 2873 \nQ 3191 2616 2906 2266 \nQ 2828 2175 2409 1742 \nQ 1991 1309 1228 531 \nz\n\" transform=\"scale(0.015625)\"/>\n       </defs>\n       <use xlink:href=\"#DejaVuSans-32\"/>\n       <use xlink:href=\"#DejaVuSans-35\" x=\"63.623047\"/>\n      </g>\n     </g>\n    </g>\n    <g id=\"ytick_3\">\n     <g id=\"line2d_7\">\n      <g>\n       <use xlink:href=\"#m56721790ca\" x=\"33.2875\" y=\"74.359219\" style=\"stroke: #000000; stroke-width: 0.8\"/>\n      </g>\n     </g>\n     <g id=\"text_7\">\n      <!-- 50 -->\n      <g transform=\"translate(13.5625 78.158437) scale(0.1 -0.1)\">\n       <use xlink:href=\"#DejaVuSans-35\"/>\n       <use xlink:href=\"#DejaVuSans-30\" x=\"63.623047\"/>\n      </g>\n     </g>\n    </g>\n    <g id=\"ytick_4\">\n     <g id=\"line2d_8\">\n      <g>\n       <use xlink:href=\"#m56721790ca\" x=\"33.2875\" y=\"106.039219\" style=\"stroke: #000000; stroke-width: 0.8\"/>\n      </g>\n     </g>\n     <g id=\"text_8\">\n      <!-- 75 -->\n      <g transform=\"translate(13.5625 109.838437) scale(0.1 -0.1)\">\n       <defs>\n        <path id=\"DejaVuSans-37\" d=\"M 525 4666 \nL 3525 4666 \nL 3525 4397 \nL 1831 0 \nL 1172 0 \nL 2766 4134 \nL 525 4134 \nL 525 4666 \nz\n\" transform=\"scale(0.015625)\"/>\n       </defs>\n       <use xlink:href=\"#DejaVuSans-37\"/>\n       <use xlink:href=\"#DejaVuSans-35\" x=\"63.623047\"/>\n      </g>\n     </g>\n    </g>\n    <g id=\"ytick_5\">\n     <g id=\"line2d_9\">\n      <g>\n       <use xlink:href=\"#m56721790ca\" x=\"33.2875\" y=\"137.719219\" style=\"stroke: #000000; stroke-width: 0.8\"/>\n      </g>\n     </g>\n     <g id=\"text_9\">\n      <!-- 100 -->\n      <g transform=\"translate(7.2 141.518437) scale(0.1 -0.1)\">\n       <use xlink:href=\"#DejaVuSans-31\"/>\n       <use xlink:href=\"#DejaVuSans-30\" x=\"63.623047\"/>\n       <use xlink:href=\"#DejaVuSans-30\" x=\"127.246094\"/>\n      </g>\n     </g>\n    </g>\n    <g id=\"ytick_6\">\n     <g id=\"line2d_10\">\n      <g>\n       <use xlink:href=\"#m56721790ca\" x=\"33.2875\" y=\"169.399219\" style=\"stroke: #000000; stroke-width: 0.8\"/>\n      </g>\n     </g>\n     <g id=\"text_10\">\n      <!-- 125 -->\n      <g transform=\"translate(7.2 173.198437) scale(0.1 -0.1)\">\n       <use xlink:href=\"#DejaVuSans-31\"/>\n       <use xlink:href=\"#DejaVuSans-32\" x=\"63.623047\"/>\n       <use xlink:href=\"#DejaVuSans-35\" x=\"127.246094\"/>\n      </g>\n     </g>\n    </g>\n    <g id=\"ytick_7\">\n     <g id=\"line2d_11\">\n      <g>\n       <use xlink:href=\"#m56721790ca\" x=\"33.2875\" y=\"201.079219\" style=\"stroke: #000000; stroke-width: 0.8\"/>\n      </g>\n     </g>\n     <g id=\"text_11\">\n      <!-- 150 -->\n      <g transform=\"translate(7.2 204.878437) scale(0.1 -0.1)\">\n       <use xlink:href=\"#DejaVuSans-31\"/>\n       <use xlink:href=\"#DejaVuSans-35\" x=\"63.623047\"/>\n       <use xlink:href=\"#DejaVuSans-30\" x=\"127.246094\"/>\n      </g>\n     </g>\n    </g>\n    <g id=\"ytick_8\">\n     <g id=\"line2d_12\">\n      <g>\n       <use xlink:href=\"#m56721790ca\" x=\"33.2875\" y=\"232.759219\" style=\"stroke: #000000; stroke-width: 0.8\"/>\n      </g>\n     </g>\n     <g id=\"text_12\">\n      <!-- 175 -->\n      <g transform=\"translate(7.2 236.558437) scale(0.1 -0.1)\">\n       <use xlink:href=\"#DejaVuSans-31\"/>\n       <use xlink:href=\"#DejaVuSans-37\" x=\"63.623047\"/>\n       <use xlink:href=\"#DejaVuSans-35\" x=\"127.246094\"/>\n      </g>\n     </g>\n    </g>\n    <g id=\"ytick_9\">\n     <g id=\"line2d_13\">\n      <g>\n       <use xlink:href=\"#m56721790ca\" x=\"33.2875\" y=\"264.439219\" style=\"stroke: #000000; stroke-width: 0.8\"/>\n      </g>\n     </g>\n     <g id=\"text_13\">\n      <!-- 200 -->\n      <g transform=\"translate(7.2 268.238437) scale(0.1 -0.1)\">\n       <use xlink:href=\"#DejaVuSans-32\"/>\n       <use xlink:href=\"#DejaVuSans-30\" x=\"63.623047\"/>\n       <use xlink:href=\"#DejaVuSans-30\" x=\"127.246094\"/>\n      </g>\n     </g>\n    </g>\n   </g>\n   <g id=\"patch_3\">\n    <path d=\"M 33.2875 276.477619 \nL 33.2875 10.365619 \n\" style=\"fill: none; stroke: #000000; stroke-width: 0.8; stroke-linejoin: miter; stroke-linecap: square\"/>\n   </g>\n   <g id=\"patch_4\">\n    <path d=\"M 236.0395 276.477619 \nL 236.0395 10.365619 \n\" style=\"fill: none; stroke: #000000; stroke-width: 0.8; stroke-linejoin: miter; stroke-linecap: square\"/>\n   </g>\n   <g id=\"patch_5\">\n    <path d=\"M 33.2875 276.477619 \nL 236.0395 276.477619 \n\" style=\"fill: none; stroke: #000000; stroke-width: 0.8; stroke-linejoin: miter; stroke-linecap: square\"/>\n   </g>\n   <g id=\"patch_6\">\n    <path d=\"M 33.2875 10.365619 \nL 236.0395 10.365619 \n\" style=\"fill: none; stroke: #000000; stroke-width: 0.8; stroke-linejoin: miter; stroke-linecap: square\"/>\n   </g>\n  </g>\n </g>\n <defs>\n  <clipPath id=\"p30c63df039\">\n   <rect x=\"33.2875\" y=\"10.365619\" width=\"202.752\" height=\"266.112\"/>\n  </clipPath>\n </defs>\n</svg>\n",
      "text/plain": [
       "<Figure size 640x480 with 1 Axes>"
      ]
     },
     "metadata": {},
     "output_type": "display_data"
    },
    {
     "name": "stdout",
     "output_type": "stream",
     "text": [
      "0\n",
      "(0,)\n",
      "<class 'tuple'>\n",
      "Linear(in_features=1, out_features=1, bias=True)\n",
      "Conv2d(0, 1, kernel_size=(1, 1), stride=(1, 1))\n"
     ]
    },
    {
     "name": "stderr",
     "output_type": "stream",
     "text": [
      "/root/anaconda3/envs/env1/lib/python3.9/site-packages/torch/nn/init.py:405: UserWarning: Initializing zero-element tensors is a no-op\n",
      "  warnings.warn(\"Initializing zero-element tensors is a no-op\")\n"
     ]
    }
   ],
   "source": [
    "import gymnasium as gym\n",
    "import matplotlib.pyplot as plt\n",
    "import torch\n",
    "import numpy as np\n",
    "import torch.nn.functional as F\n",
    "\n",
    "env_name = 'ALE/Breakout-v5'\n",
    "env = gym.make(env_name, render_mode=\"rgb_array\")\n",
    "_, _ = env.reset()\n",
    "action = env.action_space.sample()\n",
    "observation, reward, terminated, truncated, info = env.step(action)\n",
    "print(env.observation_space.shape)\n",
    "# print(env.render())\n",
    "print(env.observation_space.shape[0])\n",
    "# action_dim = env.action_space.shape[0]\n",
    "o = env.action_space.shape\n",
    "print(type(o))\n",
    "plt.imshow(env.render())\n",
    "plt.show()\n",
    "o = np.array(o)\n",
    "print(o.shape[0])\n",
    "print(o.shape)\n",
    "print(type(o.shape))\n",
    "# layer = torch.nn.Con2d(4, 2, 1)\n",
    "fc1 = torch.nn.Linear(1, 1)\n",
    "print(fc1)\n",
    "\n",
    "layer = torch.nn.Conv2d(o.shape[0], 1, 1)\n",
    "print(layer)"
   ]
  },
  {
   "cell_type": "code",
   "execution_count": 46,
   "metadata": {},
   "outputs": [
    {
     "name": "stdout",
     "output_type": "stream",
     "text": [
      "(210, 160, 3)\n",
      "<class 'numpy.ndarray'>\n",
      "tensor([[[6.4103e-03, 5.4978e-03, 7.8600e-06,  ..., 6.4103e-03,\n",
      "          6.4103e-03, 6.4103e-03],\n",
      "         [6.4103e-03, 5.4978e-03, 7.8600e-06,  ..., 6.4103e-03,\n",
      "          6.4103e-03, 6.4103e-03],\n",
      "         [6.4103e-03, 5.4978e-03, 7.8600e-06,  ..., 6.4103e-03,\n",
      "          6.4103e-03, 6.4103e-03],\n",
      "         ...,\n",
      "         [6.4103e-03, 5.4978e-03, 7.8600e-06,  ..., 6.4103e-03,\n",
      "          6.4103e-03, 6.4103e-03],\n",
      "         [6.4103e-03, 5.4978e-03, 7.8600e-06,  ..., 6.4103e-03,\n",
      "          6.4103e-03, 6.4103e-03],\n",
      "         [6.4103e-03, 5.4978e-03, 7.8600e-06,  ..., 6.4103e-03,\n",
      "          6.4103e-03, 6.4103e-03]]], grad_fn=<SoftmaxBackward0>)\n"
     ]
    }
   ],
   "source": [
    "class PolicyNet(torch.nn.Module):\n",
    "    '''\n",
    "    输入state维度的张量,输出action维度的张量,张量和为1\n",
    "    '''\n",
    "    def __init__(self, state_dim, hidden_dim, action_dim):\n",
    "        super(PolicyNet, self).__init__()\n",
    "        # self.fc1 = torch.nn.Linear(state_dim, hidden_dim) #todo 换成con2d\n",
    "        # self.fc2 = torch.nn.Linear(hidden_dim, action_dim)\n",
    "        self.fc1 = torch.nn.Conv2d(in_channels=state_dim, out_channels=hidden_dim, kernel_size=3)\n",
    "        self.fc2 = torch.nn.Conv2d(hidden_dim, action_dim, 3)\n",
    "\n",
    "    def forward(self, x):\n",
    "        x = F.relu(self.fc1(x))\n",
    "        return F.softmax(self.fc2(x), dim=1)\n",
    "    \n",
    "net = PolicyNet(3, 4, 1)\n",
    "s = torch.tensor(observation.swapaxes(0, 2), dtype=torch.float)\n",
    "a = net(s)\n",
    "print(observation.shape)\n",
    "print(type(observation))\n",
    "print(a)"
   ]
  },
  {
   "cell_type": "code",
   "execution_count": 47,
   "metadata": {},
   "outputs": [
    {
     "name": "stdout",
     "output_type": "stream",
     "text": [
      "PolicyNet(\n",
      "  (fc1): Conv2d(3, 4, kernel_size=(3, 3), stride=(1, 1))\n",
      "  (fc2): Conv2d(4, 1, kernel_size=(3, 3), stride=(1, 1))\n",
      ")\n"
     ]
    }
   ],
   "source": [
    "print(net)"
   ]
  }
 ],
 "metadata": {
  "kernelspec": {
   "display_name": "env1",
   "language": "python",
   "name": "python3"
  },
  "language_info": {
   "codemirror_mode": {
    "name": "ipython",
    "version": 3
   },
   "file_extension": ".py",
   "mimetype": "text/x-python",
   "name": "python",
   "nbconvert_exporter": "python",
   "pygments_lexer": "ipython3",
   "version": "3.9.16"
  },
  "orig_nbformat": 4
 },
 "nbformat": 4,
 "nbformat_minor": 2
}
