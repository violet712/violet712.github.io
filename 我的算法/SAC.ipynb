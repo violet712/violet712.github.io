{
 "cells": [
  {
   "cell_type": "code",
   "execution_count": 1,
   "metadata": {},
   "outputs": [],
   "source": [
    "import gymnasium as gym\n",
    "import torch\n",
    "import torch.nn.functional as F\n",
    "import numpy as np\n",
    "import matplotlib.pyplot as plt\n",
    "import rl_utils"
   ]
  },
  {
   "cell_type": "code",
   "execution_count": 2,
   "metadata": {},
   "outputs": [
    {
     "name": "stdout",
     "output_type": "stream",
     "text": [
      "Moviepy - Building video /root/Volume/violet712.github.io/我的算法/videos/rl-video-episode-0.mp4.\n",
      "Moviepy - Writing video /root/Volume/violet712.github.io/我的算法/videos/rl-video-episode-0.mp4\n",
      "\n"
     ]
    },
    {
     "name": "stderr",
     "output_type": "stream",
     "text": [
      "                                                   \r"
     ]
    },
    {
     "name": "stdout",
     "output_type": "stream",
     "text": [
      "Moviepy - Done !\n",
      "Moviepy - video ready /root/Volume/violet712.github.io/我的算法/videos/rl-video-episode-0.mp4\n",
      "Moviepy - Building video /root/Volume/violet712.github.io/我的算法/videos/rl-video-episode-1.mp4.\n",
      "Moviepy - Writing video /root/Volume/violet712.github.io/我的算法/videos/rl-video-episode-1.mp4\n",
      "\n"
     ]
    },
    {
     "name": "stderr",
     "output_type": "stream",
     "text": [
      "                                                   \r"
     ]
    },
    {
     "name": "stdout",
     "output_type": "stream",
     "text": [
      "Moviepy - Done !\n",
      "Moviepy - video ready /root/Volume/violet712.github.io/我的算法/videos/rl-video-episode-1.mp4\n",
      "Moviepy - Building video /root/Volume/violet712.github.io/我的算法/videos/rl-video-episode-8.mp4.\n",
      "Moviepy - Writing video /root/Volume/violet712.github.io/我的算法/videos/rl-video-episode-8.mp4\n",
      "\n"
     ]
    },
    {
     "name": "stderr",
     "output_type": "stream",
     "text": [
      "                                                  "
     ]
    },
    {
     "name": "stdout",
     "output_type": "stream",
     "text": [
      "Moviepy - Done !\n",
      "Moviepy - video ready /root/Volume/violet712.github.io/我的算法/videos/rl-video-episode-8.mp4\n"
     ]
    },
    {
     "name": "stderr",
     "output_type": "stream",
     "text": [
      "\r"
     ]
    }
   ],
   "source": [
    "import gymnasium as gym\n",
    "from gymnasium.utils.save_video import save_video\n",
    "\n",
    "\n",
    "env = gym.make(\"FrozenLake-v1\", render_mode=\"rgb_array_list\")\n",
    "_ = env.reset()\n",
    "step_starting_index = 0\n",
    "episode_index = 0\n",
    "for step_index in range(199): \n",
    "   action = env.action_space.sample()\n",
    "   _, _, terminated, truncated, _ = env.step(action)\n",
    "\n",
    "   if terminated or truncated:\n",
    "      save_video(\n",
    "         env.render(),\n",
    "         \"videos\",\n",
    "         fps=env.metadata[\"render_fps\"],\n",
    "         step_starting_index=step_starting_index,\n",
    "         episode_index=episode_index\n",
    "      )\n",
    "      step_starting_index = step_index + 1\n",
    "      episode_index += 1\n",
    "      env.reset()\n",
    "env.close()"
   ]
  }
 ],
 "metadata": {
  "kernelspec": {
   "display_name": "base",
   "language": "python",
   "name": "python3"
  },
  "language_info": {
   "codemirror_mode": {
    "name": "ipython",
    "version": 3
   },
   "file_extension": ".py",
   "mimetype": "text/x-python",
   "name": "python",
   "nbconvert_exporter": "python",
   "pygments_lexer": "ipython3",
   "version": "3.9.16"
  },
  "orig_nbformat": 4
 },
 "nbformat": 4,
 "nbformat_minor": 2
}
