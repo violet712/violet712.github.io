{
 "cells": [
  {
   "cell_type": "code",
   "execution_count": 1,
   "metadata": {},
   "outputs": [],
   "source": [
    "import matplotlib.pyplot as plt\n",
    "import numpy as np\n",
    "from tqdm import tqdm\n",
    "import random\n",
    "import time"
   ]
  },
  {
   "cell_type": "code",
   "execution_count": 2,
   "metadata": {},
   "outputs": [
    {
     "name": "stdout",
     "output_type": "stream",
     "text": [
      "0\n",
      "0 0\n",
      "4\n",
      "16\n"
     ]
    }
   ],
   "source": [
    "import gymnasium as gym\n",
    "\n",
    "env = gym.make(\"FrozenLake-v1\", render_mode=\"rgb_array_list\")\n",
    "print(env.)\n",
    "state, _ = env.reset()\n",
    "print(state)\n",
    "a = env.action_space.sample()\n",
    "state, _, _, _, _ = env.step(a)\n",
    "print(state, a)\n",
    "print(env.action_space.n)\n",
    "print(env.observation_space.n)"
   ]
  },
  {
   "cell_type": "code",
   "execution_count": 3,
   "metadata": {},
   "outputs": [],
   "source": [
    "import gymnasium as gym\n",
    "from gymnasium.utils.save_video import save_video\n",
    "\n",
    "\n",
    "env = gym.make(\"FrozenLake-v1\", render_mode=\"rgb_array_list\")\n",
    "_ = env.reset()\n",
    "step_starting_index = 0\n",
    "episode_index = 0\n",
    "for step_index in range(10): \n",
    "   action = env.action_space.sample()\n",
    "   _, _, terminated, truncated, _ = env.step(action)\n",
    "\n",
    "   if terminated or truncated:\n",
    "      save_video(\n",
    "         env.render(),\n",
    "         \"videos\",\n",
    "         fps=env.metadata[\"render_fps\"],\n",
    "         step_starting_index=step_starting_index,\n",
    "         episode_index=episode_index\n",
    "      )\n",
    "      step_starting_index = 0\n",
    "      episode_index += 1\n",
    "      env.reset()\n",
    "      break\n",
    "env.close()"
   ]
  },
  {
   "cell_type": "code",
   "execution_count": 4,
   "metadata": {},
   "outputs": [],
   "source": [
    "class DynaQ:\n",
    "    def __init__(self, num_state, num_action, epsilon, alpha, gamma, n_planning) -> None:\n",
    "        self.Q_table = np.zeros([num_state, num_action])\n",
    "        self.num_action = num_action\n",
    "        self.alpha = alpha\n",
    "        self.gamma = gamma\n",
    "        self.epsilon = epsilon\n",
    "        self.n_planning = n_planning\n",
    "        self.model = dict()\n",
    "        \n",
    "    def take_action(self, state):  # 选取下一步的操作\n",
    "        print(self.Q_table[state])\n",
    "        if np.random.random() < self.epsilon:\n",
    "            action = np.random.randint(self.num_action) # exploration\n",
    "        else:\n",
    "            action = np.argmax(self.Q_table[state]) # exploitation\n",
    "        return action\n",
    "    \n",
    "    def q_learning(self, state, action, reward, next_state):\n",
    "        td_error = reward + self.gamma * self.Q_table[next_state].max() - self.Q_table[state, action]\n",
    "        self.Q_table[state, action] += self.alpha * td_error\n",
    "\n",
    "    def update(self, state, action, reward, next_state):\n",
    "        self.q_learning(state, action, reward, next_state)\n",
    "        self.model[(state, action)] = reward, next_state  # 将数据添加到模型中\n",
    "        for _ in range(self.n_planning):  # Q-planning循环\n",
    "            # 随机选择曾经遇到过的状态动作对\n",
    "            (state, action), (reward, next_state) = random.choice(list(self.model.items()))\n",
    "            self.q_learning(state, action, reward, next_state)    \n",
    "\n",
    "\n",
    "def train(n_planning, epsilon = 0.01, alpha=0.1, gamma=0.9):\n",
    "    env = gym.make(\"FrozenLake-v1\", render_mode=\"rgb_array_list\")\n",
    "    _ = env.reset()\n",
    "    num_state = env.observation_space.n\n",
    "    num_action = env.action_space.n\n",
    "    agent = DynaQ(num_state, num_action, epsilon, alpha, gamma, n_planning)\n",
    "    num_episodes = 200\n",
    "    return_list = []\n",
    "    \n",
    "    for i in range(10):\n",
    "        with tqdm(total=int(num_episodes / 10), desc='Iteration %d' % i) as pbar:\n",
    "            for i_episode in range(int(num_episodes / 10)):\n",
    "                episode_return = 0\n",
    "                state = env.reset()\n",
    "                terminated, truncated = False, False\n",
    "                while not (terminated or truncated):\n",
    "                    action = agent.take_action(state)\n",
    "                    next_state, reward, terminated, truncated, _ = env.step(action)\n",
    "                    episode_return += reward\n",
    "                    agent.update(state, action, reward, next_state)\n",
    "                    state = next_state\n",
    "                return_list.append(episode_return)\n",
    "                if (i_episode + 1) % 10 == 0:  # 每10条序列打印一下这10条序列的平均回报\n",
    "                    pbar.set_postfix({\n",
    "                        'episode':\n",
    "                        '%d' % (num_episodes / 10 * i + i_episode + 1),\n",
    "                        'return':\n",
    "                        '%.3f' % np.mean(return_list[-10:])\n",
    "                    })\n",
    "                pbar.update(1)\n",
    "    return return_list"
   ]
  },
  {
   "cell_type": "code",
   "execution_count": 8,
   "metadata": {},
   "outputs": [
    {
     "name": "stdout",
     "output_type": "stream",
     "text": [
      "Q-planning步数为：0\n"
     ]
    },
    {
     "name": "stderr",
     "output_type": "stream",
     "text": [
      "Iteration 0:   0%|          | 0/20 [00:00<?, ?it/s]\n"
     ]
    },
    {
     "ename": "IndexError",
     "evalue": "only integers, slices (`:`), ellipsis (`...`), numpy.newaxis (`None`) and integer or boolean arrays are valid indices",
     "output_type": "error",
     "traceback": [
      "\u001b[0;31m---------------------------------------------------------------------------\u001b[0m",
      "\u001b[0;31mIndexError\u001b[0m                                Traceback (most recent call last)",
      "Cell \u001b[0;32mIn[8], line 9\u001b[0m\n\u001b[1;32m      7\u001b[0m \u001b[39mprint\u001b[39m(\u001b[39m'\u001b[39m\u001b[39mQ-planning步数为：\u001b[39m\u001b[39m%d\u001b[39;00m\u001b[39m'\u001b[39m \u001b[39m%\u001b[39m n_planning)\n\u001b[1;32m      8\u001b[0m \u001b[39m# time.sleep(0.5)\u001b[39;00m\n\u001b[0;32m----> 9\u001b[0m return_list \u001b[39m=\u001b[39m train(n_planning)\n\u001b[1;32m     10\u001b[0m episodes_list \u001b[39m=\u001b[39m \u001b[39mlist\u001b[39m(\u001b[39mrange\u001b[39m(\u001b[39mlen\u001b[39m(return_list)))\n\u001b[1;32m     11\u001b[0m plt\u001b[39m.\u001b[39mplot(episodes_list,\n\u001b[1;32m     12\u001b[0m          return_list,\n\u001b[1;32m     13\u001b[0m          label\u001b[39m=\u001b[39m\u001b[39mstr\u001b[39m(n_planning) \u001b[39m+\u001b[39m \u001b[39m'\u001b[39m\u001b[39m planning steps\u001b[39m\u001b[39m'\u001b[39m)\n",
      "Cell \u001b[0;32mIn[4], line 48\u001b[0m, in \u001b[0;36mtrain\u001b[0;34m(n_planning, epsilon, alpha, gamma)\u001b[0m\n\u001b[1;32m     46\u001b[0m terminated, truncated \u001b[39m=\u001b[39m \u001b[39mFalse\u001b[39;00m, \u001b[39mFalse\u001b[39;00m\n\u001b[1;32m     47\u001b[0m \u001b[39mwhile\u001b[39;00m \u001b[39mnot\u001b[39;00m (terminated \u001b[39mor\u001b[39;00m truncated):\n\u001b[0;32m---> 48\u001b[0m     action \u001b[39m=\u001b[39m agent\u001b[39m.\u001b[39;49mtake_action(state)\n\u001b[1;32m     49\u001b[0m     next_state, reward, terminated, truncated, _ \u001b[39m=\u001b[39m env\u001b[39m.\u001b[39mstep(action)\n\u001b[1;32m     50\u001b[0m     episode_return \u001b[39m+\u001b[39m\u001b[39m=\u001b[39m reward\n",
      "Cell \u001b[0;32mIn[4], line 12\u001b[0m, in \u001b[0;36mDynaQ.take_action\u001b[0;34m(self, state)\u001b[0m\n\u001b[1;32m     11\u001b[0m \u001b[39mdef\u001b[39;00m \u001b[39mtake_action\u001b[39m(\u001b[39mself\u001b[39m, state):  \u001b[39m# 选取下一步的操作\u001b[39;00m\n\u001b[0;32m---> 12\u001b[0m     \u001b[39mprint\u001b[39m(\u001b[39mself\u001b[39;49m\u001b[39m.\u001b[39;49mQ_table[state])\n\u001b[1;32m     13\u001b[0m     \u001b[39mif\u001b[39;00m np\u001b[39m.\u001b[39mrandom\u001b[39m.\u001b[39mrandom() \u001b[39m<\u001b[39m \u001b[39mself\u001b[39m\u001b[39m.\u001b[39mepsilon:\n\u001b[1;32m     14\u001b[0m         action \u001b[39m=\u001b[39m np\u001b[39m.\u001b[39mrandom\u001b[39m.\u001b[39mrandint(\u001b[39mself\u001b[39m\u001b[39m.\u001b[39mnum_action) \u001b[39m# exploration\u001b[39;00m\n",
      "\u001b[0;31mIndexError\u001b[0m: only integers, slices (`:`), ellipsis (`...`), numpy.newaxis (`None`) and integer or boolean arrays are valid indices"
     ]
    }
   ],
   "source": [
    "epsilon = 0.01\n",
    "alpha = 0.1\n",
    "gamma = 0.9\n",
    "n_planning_list = [0, 2 , 20]\n",
    "\n",
    "for n_planning in n_planning_list:\n",
    "    print('Q-planning步数为：%d' % n_planning)\n",
    "    # time.sleep(0.5)\n",
    "    return_list = train(n_planning)\n",
    "    episodes_list = list(range(len(return_list)))\n",
    "    plt.plot(episodes_list,\n",
    "             return_list,\n",
    "             label=str(n_planning) + ' planning steps')\n",
    "plt.legend()\n",
    "plt.xlabel('Episodes')\n",
    "plt.ylabel('Returns')\n",
    "plt.title('Dyna-Q on {}'.format('Cliff Walking'))\n",
    "plt.show() "
   ]
  },
  {
   "cell_type": "code",
   "execution_count": null,
   "metadata": {},
   "outputs": [],
   "source": [
    "import gymnasium as gym\n",
    "from gymnasium.utils.save_video import save_video\n",
    "\n",
    "\n",
    "# env = gym.make(\"FrozenLake-v1\", render_mode=\"rgb_array_list\")\n",
    "def save_video(agent):\n",
    "   _ = env.reset()\n",
    "   step_starting_index = 0\n",
    "   episode_index = 0\n",
    "   for step_index in range(199): \n",
    "      action = agent.take_action(explore=False)\n",
    "      _, _, terminated, truncated, _ = env.step(action)\n",
    "\n",
    "      if terminated or truncated:\n",
    "         save_video(\n",
    "            env.render(),\n",
    "            \"videos\",\n",
    "            fps=env.metadata[\"render_fps\"],\n",
    "            step_starting_index=step_starting_index,\n",
    "            episode_index=episode_index\n",
    "         )\n",
    "         step_starting_index = 0\n",
    "         episode_index += 1\n",
    "         env.reset()\n",
    "         break\n",
    "   env.close()"
   ]
  }
 ],
 "metadata": {
  "kernelspec": {
   "display_name": "base",
   "language": "python",
   "name": "python3"
  },
  "language_info": {
   "codemirror_mode": {
    "name": "ipython",
    "version": 3
   },
   "file_extension": ".py",
   "mimetype": "text/x-python",
   "name": "python",
   "nbconvert_exporter": "python",
   "pygments_lexer": "ipython3",
   "version": "3.9.16"
  },
  "orig_nbformat": 4
 },
 "nbformat": 4,
 "nbformat_minor": 2
}
