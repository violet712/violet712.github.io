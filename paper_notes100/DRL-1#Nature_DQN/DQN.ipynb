{
 "cells": [
  {
   "cell_type": "code",
   "execution_count": 5,
   "metadata": {},
   "outputs": [],
   "source": [
    "%matplotlib inline\n",
    "\n",
    "from matplotlib import pyplot as plt\n",
    "import itertools\n",
    "import gym\n",
    "import numpy as np\n",
    "import tensorflow as tf\n",
    "import datetime\n",
    "\n",
    "seed = 0\n",
    "np.random.seed(seed)\n",
    "tf.random.set_seed(seed)\n",
    "\n",
    "action_dim = env.action_space.n\n",
    "\n",
    "logdir = \"logs/fit/\" + datetime.datetime.now().strftime(\"%Y%m%d-%H%M%S\")\n",
    "tensorboard_callback = tf.keras.callbacks.TensorBoard(log_dir=logdir)"
   ]
  },
  {
   "cell_type": "code",
   "execution_count": 6,
   "metadata": {},
   "outputs": [
    {
     "name": "stderr",
     "output_type": "stream",
     "text": [
      "c:\\Users\\37103\\AppData\\Local\\Programs\\Python\\Python39\\lib\\site-packages\\gym\\wrappers\\record_video.py:41: UserWarning: \u001b[33mWARN: Overwriting existing videos at d:\\vscodespace\\violet712.github.io\\paper_notes100\\DRL-1#Nature_DQN\\videos folder (try specifying a different `video_folder` for the `RecordVideo` wrapper if this is not desired)\u001b[0m\n",
      "  logger.warn(\n"
     ]
    }
   ],
   "source": [
    "env = gym.make('BreakoutNoFrameskip-v4')\n",
    "env = gym.wrappers.RecordVideo(env, './videos', name_prefix='breakout-v4')\n",
    "# env = gym.wrappers.Monitor(env, directory='./videos/Breakout-v4', force=True)\n",
    "observation = env.reset()"
   ]
  },
  {
   "cell_type": "code",
   "execution_count": 7,
   "metadata": {},
   "outputs": [],
   "source": [
    "# while True:\n",
    "#     # env.render(mode='rgb_array')\n",
    "#     plt.figure()\n",
    "#     plt.imshow(env.render(mode='rgb_array'), obs_type='grayscale')\n",
    "#     action = env.action_space.sample()\n",
    "#     observation, reward, done, info = env.step(action)\n",
    "#     if done:\n",
    "#         break\n",
    "# env.close()\n"
   ]
  },
  {
   "cell_type": "code",
   "execution_count": 8,
   "metadata": {},
   "outputs": [],
   "source": [
    "# for i in itertools.count():\n",
    "#     action = env.action_space.sample()\n",
    "#     observation, reward, done, info = env.step(action)\n",
    "#     if i == 500:\n",
    "#         break\n",
    "# env.close()   "
   ]
  },
  {
   "cell_type": "code",
   "execution_count": 9,
   "metadata": {},
   "outputs": [],
   "source": [
    "class QNetwork(tf.keras.Model):\n",
    "    \n",
    "    def __init__(self, name):\n",
    "        super(QNetwork, self).__init__(name=name)\n",
    "        self.conv1 = tf.keras.layers.Conv2D(\n",
    "            32, kernel_size=(8, 8), strides=(4, 4),\n",
    "            padding='valid', activation='relu')\n",
    "        self.conv2 = tf.keras.layers.Conv2D(\n",
    "            64, kernel_size=(4, 4), strides=(2, 2),\n",
    "            padding='valid', activation='relu')\n",
    "        self.conv3 = tf.keras.layers.Conv2D(\n",
    "            64, kernel_size=(3, 3), strides=(1, 1),\n",
    "            padding='valid', activation='relu')\n",
    "        self.flat = tf.keras.layers.Flatten()\n",
    "        self.fc1 = tf.keras.layers.Dense(512, activation='relu')\n",
    "        self.fc2 = tf.keras.layers.Dense(action_dim, activation='linear')\n",
    "\n",
    "    def call(self, pixels, **kwargs):\n",
    "        # scale observation\n",
    "        pixels = tf.divide(tf.cast(pixels, tf.float32), tf.constant(255.0))\n",
    "        # extract features by convolutional layers\n",
    "        feature = self.flat(self.conv3(self.conv2(self.conv1(pixels))))\n",
    "        # calculate q_value\n",
    "        qvalue = self.fc2(self.fc1(feature))\n",
    "\n",
    "        return qvalue\n",
    "        "
   ]
  },
  {
   "cell_type": "code",
   "execution_count": null,
   "metadata": {},
   "outputs": [],
   "source": []
  }
 ],
 "metadata": {
  "interpreter": {
   "hash": "2638d182245c591c0c7650a148f9b4622aaf18b8cff9e48ecf203e602cb4653c"
  },
  "kernelspec": {
   "display_name": "Python 3.9.12 64-bit",
   "language": "python",
   "name": "python3"
  },
  "language_info": {
   "codemirror_mode": {
    "name": "ipython",
    "version": 3
   },
   "file_extension": ".py",
   "mimetype": "text/x-python",
   "name": "python",
   "nbconvert_exporter": "python",
   "pygments_lexer": "ipython3",
   "version": "3.9.12"
  },
  "orig_nbformat": 4
 },
 "nbformat": 4,
 "nbformat_minor": 2
}
