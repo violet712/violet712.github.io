{
 "cells": [
  {
   "cell_type": "code",
   "execution_count": null,
   "metadata": {},
   "outputs": [],
   "source": []
  }
 ],
 "metadata": {
  "kernelspec": {
   "display_name": "Python 3.9.9 64-bit",
   "language": "python",
   "name": "python3"
  },
  "language_info": {
   "name": "python",
   "version": "3.9.9"
  },
  "orig_nbformat": 4,
  "vscode": {
   "interpreter": {
    "hash": "d78645218cb27d80f9dd867df627cf9b7edd210edb13df1bdc636aff89a52e67"
   }
  }
 },
 "nbformat": 4,
 "nbformat_minor": 2
}
